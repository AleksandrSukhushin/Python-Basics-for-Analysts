{
 "cells": [
  {
   "attachments": {},
   "cell_type": "markdown",
   "metadata": {},
   "source": [
    "Задача 1: Продакт на главной mail.ru решил протестировать в рекомендательной ленте контента вместо карточек со статьями видеоплеер с короткими видео. Нынешний таймспент на юзера в день в среднем равен 25 минут, а стандартная ошибка (SD) равна 156. Мы предполагаем, что в новой версии таймспент на юзера в день изменится на 10%. Средний трафик 20000 человек в день. Посчитайте сколько дней необходимо держать эксперимент при alpha = 5% и beta = 20% ."
   ]
  },
  {
   "cell_type": "code",
   "execution_count": 1,
   "metadata": {},
   "outputs": [
    {
     "name": "stdout",
     "output_type": "stream",
     "text": [
      "955.0517\n"
     ]
    }
   ],
   "source": [
    "import numpy as np\n",
    "from scipy.stats import norm\n",
    "\n",
    "alpha = 0.05\n",
    "beta = 0.2\n",
    "sd = 156\n",
    "effect_size = 0.1\n",
    "traffic = 20000\n",
    "\n",
    "def calc_sample_size(alpha, beta, sd, effect_size):\n",
    "    z_a = norm.ppf(1 - alpha/2)\n",
    "    z_b = norm.ppf(1 - beta)\n",
    "\n",
    "    n = (z_a + z_b)**2 * sd**2 / effect_size**2\n",
    "    return np.ceil(n)\n",
    "\n",
    "def calc_exp_duration(sample_size, traffic):\n",
    "    return sample_size / traffic\n",
    "\n",
    "sample_size = calc_sample_size(alpha, beta, sd, effect_size)\n",
    "exp_duration = calc_exp_duration(sample_size, traffic)\n",
    "\n",
    "print(exp_duration)"
   ]
  },
  {
   "attachments": {},
   "cell_type": "markdown",
   "metadata": {},
   "source": [
    "Задача 2: Наша продуктовая команда в ecommerce магазине планирует запустить тест, направленный на ускорение загрузки сайта. Одна из основных метрик bounce rate в GA = 40%. Мы предполагаем, что при оптимизации сайта она изменится минимум на 20%.Средний трафик 4000 человек в день. Посчитайте сколько нам нужно дней держать эксперимент при alpha = 5% и beta = 20%"
   ]
  },
  {
   "cell_type": "code",
   "execution_count": 2,
   "metadata": {},
   "outputs": [
    {
     "name": "stdout",
     "output_type": "stream",
     "text": [
      "0.1405\n"
     ]
    }
   ],
   "source": [
    "import numpy as np\n",
    "from scipy.stats import norm\n",
    "\n",
    "alpha = 0.05\n",
    "beta = 0.2\n",
    "p0 = 0.4\n",
    "p1 = 0.4 * 0.8\n",
    "traffic = 4000\n",
    "\n",
    "def calc_sample_size(alpha, beta, p0, p1):\n",
    "    z_alpha = norm.ppf(1 - alpha/2)\n",
    "    z_beta = norm.ppf(1 - beta)\n",
    "    sd = np.sqrt(p0 * (1 - p0) + p1 * (1 - p1))\n",
    "    effect_size = np.abs(p1 - p0)\n",
    "    n = (z_alpha + z_beta)**2 * sd**2 / effect_size**2\n",
    "    return np.ceil(n)\n",
    "\n",
    "def calc_exp_duration(sample_size, traffic):\n",
    "    return sample_size / traffic\n",
    "\n",
    "sample_size = calc_sample_size(alpha, beta, p0, p1)\n",
    "exp_duration = calc_exp_duration(sample_size, traffic)\n",
    "\n",
    "print(exp_duration)"
   ]
  }
 ],
 "metadata": {
  "kernelspec": {
   "display_name": "Python 3",
   "language": "python",
   "name": "python3"
  },
  "language_info": {
   "codemirror_mode": {
    "name": "ipython",
    "version": 3
   },
   "file_extension": ".py",
   "mimetype": "text/x-python",
   "name": "python",
   "nbconvert_exporter": "python",
   "pygments_lexer": "ipython3",
   "version": "3.11.1"
  },
  "orig_nbformat": 4
 },
 "nbformat": 4,
 "nbformat_minor": 2
}
