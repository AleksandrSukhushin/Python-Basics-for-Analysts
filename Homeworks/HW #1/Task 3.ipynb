{
 "cells": [
  {
   "attachments": {},
   "cell_type": "markdown",
   "metadata": {},
   "source": [
    "## Задача 3\n",
    "Даны два списка: дата покупки (purchase_date) и суммы покупок по датам (purchase_amounts_by_dates)."
   ]
  },
  {
   "cell_type": "code",
   "execution_count": 1,
   "metadata": {},
   "outputs": [],
   "source": [
    "purchase_date = ['2021-09-14', '2021-12-15', '2021-09-08', '2021-12-05', '2021-10-09', '2021-09-30', '2021-12-22', \n",
    "'2021-11-29', '2021-12-24', '2021-11-26', '2021-10-27', '2021-12-18', '2021-11-09', '2021-11-23', '2021-09-27', '2021-10-02', \n",
    "'2021-12-27', '2021-09-20', '2021-12-13', '2021-11-01', '2021-11-09', '2021-12-06', '2021-12-08', '2021-10-09', '2021-10-31', \n",
    "'2021-09-30', '2021-11-09', '2021-12-13', '2021-10-26', '2021-12-09']"
   ]
  },
  {
   "cell_type": "code",
   "execution_count": 2,
   "metadata": {},
   "outputs": [],
   "source": [
    "purchase_amounts_by_dates = [1270, 8413, 9028, 3703, 5739, 4095, 295, 4944, 5723, 3701, 4471, 651, 7037, 4274, 6275, \n",
    "4988, 6930, 2971, 6592, 2004, 2822, 519, 3406, 2732, 5015, 2008, 316, 6333, 5700, 2887]"
   ]
  },
  {
   "attachments": {},
   "cell_type": "markdown",
   "metadata": {},
   "source": [
    "### Подзадача 3.1 \n",
    "Найдите, какая выручка у компании в ноябре. Используйте list comprehensions."
   ]
  },
  {
   "cell_type": "code",
   "execution_count": 4,
   "metadata": {},
   "outputs": [
    {
     "name": "stdout",
     "output_type": "stream",
     "text": [
      "Выручка компании в ноябре = 25098\n"
     ]
    }
   ],
   "source": [
    "import datetime\n",
    "\n",
    "purchase_dates = [datetime.datetime.strptime(date, \"%Y-%m-%d\") for date in purchase_date]\n",
    "november_dates = [date for date in purchase_dates if date.month == 11]\n",
    "november_index = [index for index, date in enumerate(purchase_dates) if date.month == 11]\n",
    "november_revenue = sum([purchase_amounts_by_dates[index] for index in november_index])\n",
    "\n",
    "print(f'Выручка компании в ноябре =', november_revenue)"
   ]
  },
  {
   "attachments": {},
   "cell_type": "markdown",
   "metadata": {},
   "source": [
    "### Подзадача 3.2 \n",
    "Найдите выручку компании в зависимости от месяца. Для этого напишите функцию, которая на вход принимает список с датами и список с выручкой, а на выходе словарь, где ключи - это месяцы, а значения - это выручка. Используйте аннотирование типов."
   ]
  },
  {
   "cell_type": "code",
   "execution_count": 17,
   "metadata": {},
   "outputs": [
    {
     "name": "stdout",
     "output_type": "stream",
     "text": [
      "{'September 2021': 25647, 'December 2021': 45452, 'October 2021': 28645, 'November 2021': 25098}\n"
     ]
    }
   ],
   "source": [
    "from typing import List, Dict\n",
    "\n",
    "def revenue_by_month(dates: List[str], amounts: List[float]) -> Dict[str, float]:\n",
    "    purchase_dates = [datetime.datetime.strptime(date, \"%Y-%m-%d\") for date in dates]\n",
    "    total_revenue = {}\n",
    "    for date, amount in zip(purchase_dates, amounts):\n",
    "        month = date.strftime(\"%B %Y\")\n",
    "        if month in total_revenue:\n",
    "            total_revenue[month] += amount\n",
    "        else:\n",
    "            total_revenue[month] = amount\n",
    "    return total_revenue\n",
    "\n",
    "total_revenue = revenue_by_month(purchase_date, purchase_amounts_by_dates)\n",
    "\n",
    "print(total_revenue)"
   ]
  }
 ],
 "metadata": {
  "kernelspec": {
   "display_name": "Python 3",
   "language": "python",
   "name": "python3"
  },
  "language_info": {
   "codemirror_mode": {
    "name": "ipython",
    "version": 3
   },
   "file_extension": ".py",
   "mimetype": "text/x-python",
   "name": "python",
   "nbconvert_exporter": "python",
   "pygments_lexer": "ipython3",
   "version": "3.11.1"
  },
  "orig_nbformat": 4
 },
 "nbformat": 4,
 "nbformat_minor": 2
}
